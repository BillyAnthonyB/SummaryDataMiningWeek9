{
 "cells": [
  {
   "cell_type": "markdown",
   "id": "0414ae68",
   "metadata": {},
   "source": [
    "# SUMMARY"
   ]
  },
  {
   "cell_type": "raw",
   "id": "9a6b29a2",
   "metadata": {},
   "source": [
    "Nama : Billy Anthony Bingtoyo\n",
    "NIM  : 0706022010014"
   ]
  },
  {
   "cell_type": "raw",
   "id": "265d6319",
   "metadata": {},
   "source": [
    "Association Rules merupakan suatu pernyataan \"if-then\" yang membantu untuk menunjukkan kemungkinan hubungan antara item data dalam kumpulan data besar dalam berbagai jenis database. Association rules memiliki sejumlah aplikasi yang digunakan secara luas untuk dapat membantu menemukan korelasi penjualan dalam transactional data atau dalam medical data. Dalam Data science, association rules digunakan untuk menemukan korelasi dan kejadian bersama antara kumpulan data. Idealnya hal ini digunakan untuk menjelaskan pola dalam data dari suatu repositori informasi yang tampaknya independen seperti relational database dan transactional database. Suatu tindakan yang menggunakan aturan asosiasi terkadang disebut sebagai \"Association rule mining\" atau \"minning association\"(Lutkevich Ben, 2020).\n",
    "\n",
    "Association rule pada basic level, melibatkan penggunaan model machine learning untuk menganalisis data untuk pola atau kejadian bersama dalam database. Hal ini mengidentifikasi if-then yang dengan sendirinya merupakan association rules. Association rules memiliki dua bagian yaitu antecedent(if) dan consequent(then). Antecendent merupakan suatu item yang ditemukan dalam data. Sedangkan consequent merupakan item yang ditemukan dalam kombinasi dengan antecendent. \n"
   ]
  },
  {
   "cell_type": "raw",
   "id": "31d84342",
   "metadata": {},
   "source": [
    "Berikut merupakan contoh penggunaan association rules dalam python\n",
    "\n",
    "import numpy as np\n",
    "import matplotlib.pyplot as plt\n",
    "import pandas as pd\n",
    "from apyori import apriori\n",
    "\n",
    "association_rules = apriori(records, min_support=0.0045, min_confidence=0.2, min_lift=3, min_length=2)\n",
    "association_results = list(association_rules)"
   ]
  },
  {
   "cell_type": "markdown",
   "id": "e4da1d25",
   "metadata": {},
   "source": [
    "### DAFTAR PUSTAKA"
   ]
  },
  {
   "cell_type": "raw",
   "id": "65577234",
   "metadata": {},
   "source": [
    "https://www.techtarget.com/searchbusinessanalytics/definition/association-rules-in-data-mining\n",
    "https://stackabuse.com/association-rule-mining-via-apriori-algorithm-in-python/"
   ]
  }
 ],
 "metadata": {
  "kernelspec": {
   "display_name": "Python 3",
   "language": "python",
   "name": "python3"
  },
  "language_info": {
   "codemirror_mode": {
    "name": "ipython",
    "version": 3
   },
   "file_extension": ".py",
   "mimetype": "text/x-python",
   "name": "python",
   "nbconvert_exporter": "python",
   "pygments_lexer": "ipython3",
   "version": "3.8.8"
  }
 },
 "nbformat": 4,
 "nbformat_minor": 5
}
